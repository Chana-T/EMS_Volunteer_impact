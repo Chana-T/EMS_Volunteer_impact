{
 "cells": [
  {
   "cell_type": "markdown",
   "metadata": {},
   "source": [
    "# Notebook 1/: Data Processing  & Reduction"
   ]
  },
  {
   "cell_type": "code",
   "execution_count": 1,
   "metadata": {},
   "outputs": [],
   "source": [
    "import pandas as pd\n",
    "import datetime as dt\n",
    "import numpy as np"
   ]
  },
  {
   "cell_type": "markdown",
   "metadata": {},
   "source": [
    "### Read in and process full dataset"
   ]
  },
  {
   "cell_type": "markdown",
   "metadata": {},
   "source": [
    "#### This _will_ take over an hour to run, the processed data is already available so running it is not recommended."
   ]
  },
  {
   "cell_type": "code",
   "execution_count": null,
   "metadata": {},
   "outputs": [],
   "source": [
    "def quick_clean(data):\n",
    "    chunk_mincol = data[['CAD_INCIDENT_ID', 'INCIDENT_DATETIME', 'INITIAL_CALL_TYPE', # Drop 9 extraneous columns\n",
    "                   'INITIAL_SEVERITY_LEVEL_CODE', 'FINAL_CALL_TYPE',\n",
    "                   'FINAL_SEVERITY_LEVEL_CODE', 'FIRST_ASSIGNMENT_DATETIME',\n",
    "                   'VALID_DISPATCH_RSPNS_TIME_INDC', 'DISPATCH_RESPONSE_SECONDS_QY',\n",
    "                   'FIRST_ACTIVATION_DATETIME', 'FIRST_ON_SCENE_DATETIME',\n",
    "                   'VALID_INCIDENT_RSPNS_TIME_INDC', 'INCIDENT_RESPONSE_SECONDS_QY',\n",
    "                   'INCIDENT_TRAVEL_TM_SECONDS_QY', 'FIRST_TO_HOSP_DATETIME',\n",
    "                   'FIRST_HOSP_ARRIVAL_DATETIME', 'INCIDENT_CLOSE_DATETIME',\n",
    "                   'HELD_INDICATOR', 'INCIDENT_DISPOSITION_CODE', 'BOROUGH',\n",
    "                   'INCIDENT_DISPATCH_AREA', 'ZIPCODE']]\n",
    "    # Convert INCIDENT_DATETIME from string to datetime format for processing ease\n",
    "    chunk_mincol['INCIDENT_DATETIME'] = pd.to_datetime(chunk_mincol['INCIDENT_DATETIME']) \n",
    "    chunk_mincol['FIRST_ASSIGNMENT_DATETIME'] = pd.to_datetime(chunk_mincol['FIRST_ASSIGNMENT_DATETIME']) \n",
    "    chunk_mincol['FIRST_ACTIVATION_DATETIME'] = pd.to_datetime(chunk_mincol['FIRST_ACTIVATION_DATETIME']) \n",
    "    chunk_mincol['FIRST_ON_SCENE_DATETIME'] = pd.to_datetime(chunk_mincol['FIRST_ON_SCENE_DATETIME']) \n",
    "    chunk_mincol['FIRST_TO_HOSP_DATETIME'] = pd.to_datetime(chunk_mincol['FIRST_TO_HOSP_DATETIME']) \n",
    "    chunk_mincol['FIRST_HOSP_ARRIVAL_DATETIME'] = pd.to_datetime(chunk_mincol['FIRST_HOSP_ARRIVAL_DATETIME']) \n",
    "    chunk_mincol['INCIDENT_CLOSE_DATETIME'] = pd.to_datetime(chunk_mincol['INCIDENT_CLOSE_DATETIME']) \n",
    "    chunk_eve = chunk_mincol[chunk_mincol.INCIDENT_DATETIME.dt.hour >= 19] # Reduce data to evenings only\n",
    "    chunk_nnz = chunk_eve[chunk_eve['ZIPCODE'].notnull()] # Save only not-null zipcodes\n",
    "    chunk_nndc = chunk_nnz[chunk_nnz['INCIDENT_DISPOSITION_CODE'].notnull()] # Save only not-null disposition codes\n",
    "    return chunk_nndc"
   ]
  },
  {
   "cell_type": "markdown",
   "metadata": {},
   "source": [
    "**Notes:** The function above is run on 100_000-line chunks of data, then the resulting product is saved to a list and subsequently converted into a Pandas dataframe, and saved to a csv. Data not stored in GitHub repository due to large file size."
   ]
  },
  {
   "cell_type": "code",
   "execution_count": null,
   "metadata": {},
   "outputs": [],
   "source": [
    "# with chunk-assistance from https://towardsdatascience.com/why-and-how-to-use-pandas-with-large-data-9594dda2ea4c\n",
    "\n",
    "no_chunk = 0\n",
    "chunk_list = []\n",
    "\n",
    "for chunk in pd.read_csv('./data/EMS_Incident_Dispatch_Data.csv', iterator=True, chunksize=100000):\n",
    "    chunk_clean = quick_clean(chunk) \n",
    "    chunk_list.append(chunk_clean)\n",
    "    \n",
    "    no_chunk += 1\n",
    "    print(no_chunk)\n",
    "    \n",
    "# concat the list into dataframe \n",
    "df_concat = pd.concat(chunk_list)\n",
    "\n",
    "# Save new dataframe to a csv\n",
    "df_concat.to_csv('./data/EMS_dispatch_evenings.csv', index = False)"
   ]
  },
  {
   "cell_type": "code",
   "execution_count": null,
   "metadata": {},
   "outputs": [],
   "source": []
  }
 ],
 "metadata": {
  "kernelspec": {
   "display_name": "Python [conda env:dsi] *",
   "language": "python",
   "name": "conda-env-dsi-py"
  },
  "language_info": {
   "codemirror_mode": {
    "name": "ipython",
    "version": 3
   },
   "file_extension": ".py",
   "mimetype": "text/x-python",
   "name": "python",
   "nbconvert_exporter": "python",
   "pygments_lexer": "ipython3",
   "version": "3.7.4"
  },
  "toc": {
   "base_numbering": 1,
   "nav_menu": {},
   "number_sections": true,
   "sideBar": true,
   "skip_h1_title": false,
   "title_cell": "Table of Contents",
   "title_sidebar": "Contents",
   "toc_cell": false,
   "toc_position": {},
   "toc_section_display": true,
   "toc_window_display": false
  },
  "varInspector": {
   "cols": {
    "lenName": 16,
    "lenType": 16,
    "lenVar": 40
   },
   "kernels_config": {
    "python": {
     "delete_cmd_postfix": "",
     "delete_cmd_prefix": "del ",
     "library": "var_list.py",
     "varRefreshCmd": "print(var_dic_list())"
    },
    "r": {
     "delete_cmd_postfix": ") ",
     "delete_cmd_prefix": "rm(",
     "library": "var_list.r",
     "varRefreshCmd": "cat(var_dic_list()) "
    }
   },
   "types_to_exclude": [
    "module",
    "function",
    "builtin_function_or_method",
    "instance",
    "_Feature"
   ],
   "window_display": false
  }
 },
 "nbformat": 4,
 "nbformat_minor": 2
}
